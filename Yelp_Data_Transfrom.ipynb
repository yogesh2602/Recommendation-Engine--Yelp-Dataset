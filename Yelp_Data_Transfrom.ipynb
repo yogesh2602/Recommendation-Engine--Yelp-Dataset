{
 "cells": [
  {
   "cell_type": "markdown",
   "metadata": {},
   "source": [
    "### The objective of this notebook is to transform the data in a shape that can be used to build models"
   ]
  },
  {
   "cell_type": "markdown",
   "metadata": {},
   "source": [
    "### Importing Libraries"
   ]
  },
  {
   "cell_type": "code",
   "execution_count": null,
   "metadata": {},
   "outputs": [],
   "source": [
    "import numpy as np\n",
    "import pandas as pd\n",
    "from scipy.sparse import csr_matrix\n",
    "from sklearn.neighbors import NearestNeighbors\n",
    "import sklearn.metrics.pairwise as pw\n",
    "from sklearn.metrics.pairwise import pairwise_distances"
   ]
  },
  {
   "cell_type": "markdown",
   "metadata": {},
   "source": [
    "### Loading Dataset"
   ]
  },
  {
   "cell_type": "code",
   "execution_count": 2,
   "metadata": {},
   "outputs": [],
   "source": [
    "cols=['business_id', 'name', 'city', 'state',\n",
    "       'latitude', 'longitude', 'stars', 'review_count','open',\n",
    "       'categories']"
   ]
  },
  {
   "cell_type": "code",
   "execution_count": null,
   "metadata": {},
   "outputs": [],
   "source": [
    "review_cols=['business_id', 'user_id']"
   ]
  },
  {
   "cell_type": "code",
   "execution_count": 3,
   "metadata": {},
   "outputs": [],
   "source": [
    "df_business=pd.read_csv(r'C:\\Users\\Yogesh\\Downloads\\yelp-csv\\yelp_academic_dataset_business.csv',low_memory=False,\n",
    "                        usecols=cols)"
   ]
  },
  {
   "cell_type": "code",
   "execution_count": null,
   "metadata": {},
   "outputs": [],
   "source": [
    "df_review=pd.read_csv(r'C:\\Users\\Yogesh\\Downloads\\yelp-csv\\yelp_academic_dataset_review.csv',\n",
    "                      usecols=review_cols)"
   ]
  },
  {
   "cell_type": "code",
   "execution_count": 4,
   "metadata": {},
   "outputs": [
    {
     "data": {
      "text/html": [
       "<div>\n",
       "<style scoped>\n",
       "    .dataframe tbody tr th:only-of-type {\n",
       "        vertical-align: middle;\n",
       "    }\n",
       "\n",
       "    .dataframe tbody tr th {\n",
       "        vertical-align: top;\n",
       "    }\n",
       "\n",
       "    .dataframe thead th {\n",
       "        text-align: right;\n",
       "    }\n",
       "</style>\n",
       "<table border=\"1\" class=\"dataframe\">\n",
       "  <thead>\n",
       "    <tr style=\"text-align: right;\">\n",
       "      <th></th>\n",
       "      <th>business_id</th>\n",
       "      <th>categories</th>\n",
       "      <th>latitude</th>\n",
       "      <th>name</th>\n",
       "      <th>review_count</th>\n",
       "      <th>state</th>\n",
       "      <th>open</th>\n",
       "      <th>city</th>\n",
       "      <th>stars</th>\n",
       "      <th>longitude</th>\n",
       "    </tr>\n",
       "  </thead>\n",
       "  <tbody>\n",
       "    <tr>\n",
       "      <th>0</th>\n",
       "      <td>vcNAWiLM4dR7D2nwwJ7nCA</td>\n",
       "      <td>Doctors;Health &amp; Medical</td>\n",
       "      <td>33.499313</td>\n",
       "      <td>Eric Goldberg, MD</td>\n",
       "      <td>7</td>\n",
       "      <td>AZ</td>\n",
       "      <td>True</td>\n",
       "      <td>Phoenix</td>\n",
       "      <td>3.5</td>\n",
       "      <td>-111.983758</td>\n",
       "    </tr>\n",
       "    <tr>\n",
       "      <th>1</th>\n",
       "      <td>JwUE5GmEO-sH1FuwJgKBlQ</td>\n",
       "      <td>Restaurants</td>\n",
       "      <td>43.238893</td>\n",
       "      <td>Pine Cone Restaurant</td>\n",
       "      <td>26</td>\n",
       "      <td>WI</td>\n",
       "      <td>True</td>\n",
       "      <td>De Forest</td>\n",
       "      <td>4.0</td>\n",
       "      <td>-89.335844</td>\n",
       "    </tr>\n",
       "    <tr>\n",
       "      <th>2</th>\n",
       "      <td>uGykseHzyS5xAMWoN6YUqA</td>\n",
       "      <td>American (Traditional);Restaurants</td>\n",
       "      <td>43.252267</td>\n",
       "      <td>Deforest Family Restaurant</td>\n",
       "      <td>16</td>\n",
       "      <td>WI</td>\n",
       "      <td>True</td>\n",
       "      <td>De Forest</td>\n",
       "      <td>4.0</td>\n",
       "      <td>-89.353437</td>\n",
       "    </tr>\n",
       "    <tr>\n",
       "      <th>3</th>\n",
       "      <td>LRKJF43s9-3jG9Lgx4zODg</td>\n",
       "      <td>Food;Ice Cream &amp; Frozen Yogurt;Fast Food;Resta...</td>\n",
       "      <td>43.251045</td>\n",
       "      <td>Culver's</td>\n",
       "      <td>7</td>\n",
       "      <td>WI</td>\n",
       "      <td>True</td>\n",
       "      <td>De Forest</td>\n",
       "      <td>4.5</td>\n",
       "      <td>-89.374983</td>\n",
       "    </tr>\n",
       "    <tr>\n",
       "      <th>4</th>\n",
       "      <td>RgDg-k9S5YD_BaxMckifkg</td>\n",
       "      <td>Chinese;Restaurants</td>\n",
       "      <td>43.240875</td>\n",
       "      <td>Chang Jiang Chinese Kitchen</td>\n",
       "      <td>3</td>\n",
       "      <td>WI</td>\n",
       "      <td>True</td>\n",
       "      <td>De Forest</td>\n",
       "      <td>4.0</td>\n",
       "      <td>-89.343722</td>\n",
       "    </tr>\n",
       "  </tbody>\n",
       "</table>\n",
       "</div>"
      ],
      "text/plain": [
       "              business_id                                         categories  \\\n",
       "0  vcNAWiLM4dR7D2nwwJ7nCA                           Doctors;Health & Medical   \n",
       "1  JwUE5GmEO-sH1FuwJgKBlQ                                        Restaurants   \n",
       "2  uGykseHzyS5xAMWoN6YUqA                 American (Traditional);Restaurants   \n",
       "3  LRKJF43s9-3jG9Lgx4zODg  Food;Ice Cream & Frozen Yogurt;Fast Food;Resta...   \n",
       "4  RgDg-k9S5YD_BaxMckifkg                                Chinese;Restaurants   \n",
       "\n",
       "    latitude                         name  review_count state  open  \\\n",
       "0  33.499313            Eric Goldberg, MD             7    AZ  True   \n",
       "1  43.238893         Pine Cone Restaurant            26    WI  True   \n",
       "2  43.252267   Deforest Family Restaurant            16    WI  True   \n",
       "3  43.251045                     Culver's             7    WI  True   \n",
       "4  43.240875  Chang Jiang Chinese Kitchen             3    WI  True   \n",
       "\n",
       "        city  stars   longitude  \n",
       "0    Phoenix    3.5 -111.983758  \n",
       "1  De Forest    4.0  -89.335844  \n",
       "2  De Forest    4.0  -89.353437  \n",
       "3  De Forest    4.5  -89.374983  \n",
       "4  De Forest    4.0  -89.343722  "
      ]
     },
     "execution_count": 4,
     "metadata": {},
     "output_type": "execute_result"
    }
   ],
   "source": [
    "df_business.head()"
   ]
  },
  {
   "cell_type": "markdown",
   "metadata": {},
   "source": [
    "### Data Transformation"
   ]
  },
  {
   "cell_type": "code",
   "execution_count": 5,
   "metadata": {},
   "outputs": [],
   "source": [
    "df_business=df_business[df_business.open==1]\n",
    "df_explode = df_business.assign(categories = df_business.categories\n",
    "                         .str.split(';')).explode('categories')"
   ]
  },
  {
   "cell_type": "code",
   "execution_count": 7,
   "metadata": {},
   "outputs": [
    {
     "data": {
      "text/html": [
       "<div>\n",
       "<style scoped>\n",
       "    .dataframe tbody tr th:only-of-type {\n",
       "        vertical-align: middle;\n",
       "    }\n",
       "\n",
       "    .dataframe tbody tr th {\n",
       "        vertical-align: top;\n",
       "    }\n",
       "\n",
       "    .dataframe thead th {\n",
       "        text-align: right;\n",
       "    }\n",
       "</style>\n",
       "<table border=\"1\" class=\"dataframe\">\n",
       "  <thead>\n",
       "    <tr style=\"text-align: right;\">\n",
       "      <th></th>\n",
       "      <th>business_id</th>\n",
       "      <th>categories</th>\n",
       "      <th>latitude</th>\n",
       "      <th>name</th>\n",
       "      <th>review_count</th>\n",
       "      <th>state</th>\n",
       "      <th>open</th>\n",
       "      <th>city</th>\n",
       "      <th>stars</th>\n",
       "      <th>longitude</th>\n",
       "    </tr>\n",
       "  </thead>\n",
       "  <tbody>\n",
       "    <tr>\n",
       "      <th>0</th>\n",
       "      <td>vcNAWiLM4dR7D2nwwJ7nCA</td>\n",
       "      <td>Doctors</td>\n",
       "      <td>33.499313</td>\n",
       "      <td>Eric Goldberg, MD</td>\n",
       "      <td>7</td>\n",
       "      <td>AZ</td>\n",
       "      <td>True</td>\n",
       "      <td>Phoenix</td>\n",
       "      <td>3.5</td>\n",
       "      <td>-111.983758</td>\n",
       "    </tr>\n",
       "    <tr>\n",
       "      <th>0</th>\n",
       "      <td>vcNAWiLM4dR7D2nwwJ7nCA</td>\n",
       "      <td>Health &amp; Medical</td>\n",
       "      <td>33.499313</td>\n",
       "      <td>Eric Goldberg, MD</td>\n",
       "      <td>7</td>\n",
       "      <td>AZ</td>\n",
       "      <td>True</td>\n",
       "      <td>Phoenix</td>\n",
       "      <td>3.5</td>\n",
       "      <td>-111.983758</td>\n",
       "    </tr>\n",
       "    <tr>\n",
       "      <th>1</th>\n",
       "      <td>JwUE5GmEO-sH1FuwJgKBlQ</td>\n",
       "      <td>Restaurants</td>\n",
       "      <td>43.238893</td>\n",
       "      <td>Pine Cone Restaurant</td>\n",
       "      <td>26</td>\n",
       "      <td>WI</td>\n",
       "      <td>True</td>\n",
       "      <td>De Forest</td>\n",
       "      <td>4.0</td>\n",
       "      <td>-89.335844</td>\n",
       "    </tr>\n",
       "    <tr>\n",
       "      <th>2</th>\n",
       "      <td>uGykseHzyS5xAMWoN6YUqA</td>\n",
       "      <td>American (Traditional)</td>\n",
       "      <td>43.252267</td>\n",
       "      <td>Deforest Family Restaurant</td>\n",
       "      <td>16</td>\n",
       "      <td>WI</td>\n",
       "      <td>True</td>\n",
       "      <td>De Forest</td>\n",
       "      <td>4.0</td>\n",
       "      <td>-89.353437</td>\n",
       "    </tr>\n",
       "    <tr>\n",
       "      <th>2</th>\n",
       "      <td>uGykseHzyS5xAMWoN6YUqA</td>\n",
       "      <td>Restaurants</td>\n",
       "      <td>43.252267</td>\n",
       "      <td>Deforest Family Restaurant</td>\n",
       "      <td>16</td>\n",
       "      <td>WI</td>\n",
       "      <td>True</td>\n",
       "      <td>De Forest</td>\n",
       "      <td>4.0</td>\n",
       "      <td>-89.353437</td>\n",
       "    </tr>\n",
       "    <tr>\n",
       "      <th>3</th>\n",
       "      <td>LRKJF43s9-3jG9Lgx4zODg</td>\n",
       "      <td>Food</td>\n",
       "      <td>43.251045</td>\n",
       "      <td>Culver's</td>\n",
       "      <td>7</td>\n",
       "      <td>WI</td>\n",
       "      <td>True</td>\n",
       "      <td>De Forest</td>\n",
       "      <td>4.5</td>\n",
       "      <td>-89.374983</td>\n",
       "    </tr>\n",
       "    <tr>\n",
       "      <th>3</th>\n",
       "      <td>LRKJF43s9-3jG9Lgx4zODg</td>\n",
       "      <td>Ice Cream &amp; Frozen Yogurt</td>\n",
       "      <td>43.251045</td>\n",
       "      <td>Culver's</td>\n",
       "      <td>7</td>\n",
       "      <td>WI</td>\n",
       "      <td>True</td>\n",
       "      <td>De Forest</td>\n",
       "      <td>4.5</td>\n",
       "      <td>-89.374983</td>\n",
       "    </tr>\n",
       "    <tr>\n",
       "      <th>3</th>\n",
       "      <td>LRKJF43s9-3jG9Lgx4zODg</td>\n",
       "      <td>Fast Food</td>\n",
       "      <td>43.251045</td>\n",
       "      <td>Culver's</td>\n",
       "      <td>7</td>\n",
       "      <td>WI</td>\n",
       "      <td>True</td>\n",
       "      <td>De Forest</td>\n",
       "      <td>4.5</td>\n",
       "      <td>-89.374983</td>\n",
       "    </tr>\n",
       "    <tr>\n",
       "      <th>3</th>\n",
       "      <td>LRKJF43s9-3jG9Lgx4zODg</td>\n",
       "      <td>Restaurants</td>\n",
       "      <td>43.251045</td>\n",
       "      <td>Culver's</td>\n",
       "      <td>7</td>\n",
       "      <td>WI</td>\n",
       "      <td>True</td>\n",
       "      <td>De Forest</td>\n",
       "      <td>4.5</td>\n",
       "      <td>-89.374983</td>\n",
       "    </tr>\n",
       "    <tr>\n",
       "      <th>4</th>\n",
       "      <td>RgDg-k9S5YD_BaxMckifkg</td>\n",
       "      <td>Chinese</td>\n",
       "      <td>43.240875</td>\n",
       "      <td>Chang Jiang Chinese Kitchen</td>\n",
       "      <td>3</td>\n",
       "      <td>WI</td>\n",
       "      <td>True</td>\n",
       "      <td>De Forest</td>\n",
       "      <td>4.0</td>\n",
       "      <td>-89.343722</td>\n",
       "    </tr>\n",
       "  </tbody>\n",
       "</table>\n",
       "</div>"
      ],
      "text/plain": [
       "              business_id                 categories   latitude  \\\n",
       "0  vcNAWiLM4dR7D2nwwJ7nCA                    Doctors  33.499313   \n",
       "0  vcNAWiLM4dR7D2nwwJ7nCA           Health & Medical  33.499313   \n",
       "1  JwUE5GmEO-sH1FuwJgKBlQ                Restaurants  43.238893   \n",
       "2  uGykseHzyS5xAMWoN6YUqA     American (Traditional)  43.252267   \n",
       "2  uGykseHzyS5xAMWoN6YUqA                Restaurants  43.252267   \n",
       "3  LRKJF43s9-3jG9Lgx4zODg                       Food  43.251045   \n",
       "3  LRKJF43s9-3jG9Lgx4zODg  Ice Cream & Frozen Yogurt  43.251045   \n",
       "3  LRKJF43s9-3jG9Lgx4zODg                  Fast Food  43.251045   \n",
       "3  LRKJF43s9-3jG9Lgx4zODg                Restaurants  43.251045   \n",
       "4  RgDg-k9S5YD_BaxMckifkg                    Chinese  43.240875   \n",
       "\n",
       "                          name  review_count state  open       city  stars  \\\n",
       "0            Eric Goldberg, MD             7    AZ  True    Phoenix    3.5   \n",
       "0            Eric Goldberg, MD             7    AZ  True    Phoenix    3.5   \n",
       "1         Pine Cone Restaurant            26    WI  True  De Forest    4.0   \n",
       "2   Deforest Family Restaurant            16    WI  True  De Forest    4.0   \n",
       "2   Deforest Family Restaurant            16    WI  True  De Forest    4.0   \n",
       "3                     Culver's             7    WI  True  De Forest    4.5   \n",
       "3                     Culver's             7    WI  True  De Forest    4.5   \n",
       "3                     Culver's             7    WI  True  De Forest    4.5   \n",
       "3                     Culver's             7    WI  True  De Forest    4.5   \n",
       "4  Chang Jiang Chinese Kitchen             3    WI  True  De Forest    4.0   \n",
       "\n",
       "    longitude  \n",
       "0 -111.983758  \n",
       "0 -111.983758  \n",
       "1  -89.335844  \n",
       "2  -89.353437  \n",
       "2  -89.353437  \n",
       "3  -89.374983  \n",
       "3  -89.374983  \n",
       "3  -89.374983  \n",
       "3  -89.374983  \n",
       "4  -89.343722  "
      ]
     },
     "execution_count": 7,
     "metadata": {},
     "output_type": "execute_result"
    }
   ],
   "source": [
    "df_explode.head(10)"
   ]
  },
  {
   "cell_type": "code",
   "execution_count": 8,
   "metadata": {},
   "outputs": [
    {
     "data": {
      "text/plain": [
       "Restaurants           11347\n",
       "Shopping               5864\n",
       "Food                   4428\n",
       "Beauty & Spas          3214\n",
       "Nightlife              2309\n",
       "                      ...  \n",
       "Egyptian                  1\n",
       "Singaporean               1\n",
       "Brewing Supplies          1\n",
       "Meditation Centers        1\n",
       "Firewood                  1\n",
       "Name: categories, Length: 714, dtype: int64"
      ]
     },
     "execution_count": 8,
     "metadata": {},
     "output_type": "execute_result"
    }
   ],
   "source": [
    "df_explode.categories.value_counts()"
   ]
  },
  {
   "cell_type": "markdown",
   "metadata": {},
   "source": [
    "#### Filtering out only restaurants records"
   ]
  },
  {
   "cell_type": "code",
   "execution_count": 33,
   "metadata": {},
   "outputs": [],
   "source": [
    "df_restaurants=df_explode[df_explode.categories=='Restaurants']"
   ]
  },
  {
   "cell_type": "markdown",
   "metadata": {},
   "source": [
    "#### Group by States to check the number of restaurants and number of reviews in every state"
   ]
  },
  {
   "cell_type": "code",
   "execution_count": 35,
   "metadata": {},
   "outputs": [
    {
     "data": {
      "text/html": [
       "<div>\n",
       "<style scoped>\n",
       "    .dataframe tbody tr th:only-of-type {\n",
       "        vertical-align: middle;\n",
       "    }\n",
       "\n",
       "    .dataframe tbody tr th {\n",
       "        vertical-align: top;\n",
       "    }\n",
       "\n",
       "    .dataframe thead tr th {\n",
       "        text-align: left;\n",
       "    }\n",
       "\n",
       "    .dataframe thead tr:last-of-type th {\n",
       "        text-align: right;\n",
       "    }\n",
       "</style>\n",
       "<table border=\"1\" class=\"dataframe\">\n",
       "  <thead>\n",
       "    <tr>\n",
       "      <th></th>\n",
       "      <th>state</th>\n",
       "      <th>review_count</th>\n",
       "    </tr>\n",
       "    <tr>\n",
       "      <th></th>\n",
       "      <th>count</th>\n",
       "      <th>sum</th>\n",
       "    </tr>\n",
       "    <tr>\n",
       "      <th>state</th>\n",
       "      <th></th>\n",
       "      <th></th>\n",
       "    </tr>\n",
       "  </thead>\n",
       "  <tbody>\n",
       "    <tr>\n",
       "      <th>AZ</th>\n",
       "      <td>5773</td>\n",
       "      <td>305943</td>\n",
       "    </tr>\n",
       "    <tr>\n",
       "      <th>EDH</th>\n",
       "      <td>884</td>\n",
       "      <td>13180</td>\n",
       "    </tr>\n",
       "    <tr>\n",
       "      <th>ELN</th>\n",
       "      <td>2</td>\n",
       "      <td>10</td>\n",
       "    </tr>\n",
       "    <tr>\n",
       "      <th>FIF</th>\n",
       "      <td>1</td>\n",
       "      <td>3</td>\n",
       "    </tr>\n",
       "    <tr>\n",
       "      <th>GA</th>\n",
       "      <td>1</td>\n",
       "      <td>16</td>\n",
       "    </tr>\n",
       "    <tr>\n",
       "      <th>KHL</th>\n",
       "      <td>1</td>\n",
       "      <td>7</td>\n",
       "    </tr>\n",
       "    <tr>\n",
       "      <th>MLN</th>\n",
       "      <td>47</td>\n",
       "      <td>407</td>\n",
       "    </tr>\n",
       "    <tr>\n",
       "      <th>NV</th>\n",
       "      <td>3692</td>\n",
       "      <td>344744</td>\n",
       "    </tr>\n",
       "    <tr>\n",
       "      <th>ON</th>\n",
       "      <td>207</td>\n",
       "      <td>1932</td>\n",
       "    </tr>\n",
       "    <tr>\n",
       "      <th>WI</th>\n",
       "      <td>738</td>\n",
       "      <td>25901</td>\n",
       "    </tr>\n",
       "    <tr>\n",
       "      <th>XGL</th>\n",
       "      <td>1</td>\n",
       "      <td>4</td>\n",
       "    </tr>\n",
       "  </tbody>\n",
       "</table>\n",
       "</div>"
      ],
      "text/plain": [
       "      state review_count\n",
       "      count          sum\n",
       "state                   \n",
       "AZ     5773       305943\n",
       "EDH     884        13180\n",
       "ELN       2           10\n",
       "FIF       1            3\n",
       "GA        1           16\n",
       "KHL       1            7\n",
       "MLN      47          407\n",
       "NV     3692       344744\n",
       "ON      207         1932\n",
       "WI      738        25901\n",
       "XGL       1            4"
      ]
     },
     "execution_count": 35,
     "metadata": {},
     "output_type": "execute_result"
    }
   ],
   "source": [
    "df_restaurants.groupby('state').agg({'state': ['count'],'review_count':['sum']})"
   ]
  },
  {
   "cell_type": "code",
   "execution_count": 36,
   "metadata": {},
   "outputs": [],
   "source": [
    "df_restaurants_WI=df_restaurants[df_restaurants.state=='WI']\n",
    "df_restaurants_WI.shape"
   ]
  },
  {
   "cell_type": "code",
   "execution_count": 38,
   "metadata": {},
   "outputs": [
    {
     "name": "stderr",
     "output_type": "stream",
     "text": [
      "C:\\ProgramData\\Anaconda3\\lib\\site-packages\\pandas\\core\\frame.py:4117: SettingWithCopyWarning: \n",
      "A value is trying to be set on a copy of a slice from a DataFrame\n",
      "\n",
      "See the caveats in the documentation: http://pandas.pydata.org/pandas-docs/stable/user_guide/indexing.html#returning-a-view-versus-a-copy\n",
      "  errors=errors,\n"
     ]
    }
   ],
   "source": [
    "##Dropping columns which are not required\n",
    "df_restaurants_WI.drop(['city', 'state',\n",
    "       'latitude', 'longitude', 'review_count','open',\n",
    "       'categories'], axis=1,inplace=True)"
   ]
  },
  {
   "cell_type": "code",
   "execution_count": 39,
   "metadata": {},
   "outputs": [
    {
     "data": {
      "text/html": [
       "<div>\n",
       "<style scoped>\n",
       "    .dataframe tbody tr th:only-of-type {\n",
       "        vertical-align: middle;\n",
       "    }\n",
       "\n",
       "    .dataframe tbody tr th {\n",
       "        vertical-align: top;\n",
       "    }\n",
       "\n",
       "    .dataframe thead th {\n",
       "        text-align: right;\n",
       "    }\n",
       "</style>\n",
       "<table border=\"1\" class=\"dataframe\">\n",
       "  <thead>\n",
       "    <tr style=\"text-align: right;\">\n",
       "      <th></th>\n",
       "      <th>business_id</th>\n",
       "      <th>name</th>\n",
       "      <th>stars</th>\n",
       "    </tr>\n",
       "  </thead>\n",
       "  <tbody>\n",
       "    <tr>\n",
       "      <th>1</th>\n",
       "      <td>JwUE5GmEO-sH1FuwJgKBlQ</td>\n",
       "      <td>Pine Cone Restaurant</td>\n",
       "      <td>4.0</td>\n",
       "    </tr>\n",
       "    <tr>\n",
       "      <th>2</th>\n",
       "      <td>uGykseHzyS5xAMWoN6YUqA</td>\n",
       "      <td>Deforest Family Restaurant</td>\n",
       "      <td>4.0</td>\n",
       "    </tr>\n",
       "    <tr>\n",
       "      <th>3</th>\n",
       "      <td>LRKJF43s9-3jG9Lgx4zODg</td>\n",
       "      <td>Culver's</td>\n",
       "      <td>4.5</td>\n",
       "    </tr>\n",
       "    <tr>\n",
       "      <th>4</th>\n",
       "      <td>RgDg-k9S5YD_BaxMckifkg</td>\n",
       "      <td>Chang Jiang Chinese Kitchen</td>\n",
       "      <td>4.0</td>\n",
       "    </tr>\n",
       "    <tr>\n",
       "      <th>8</th>\n",
       "      <td>rdAdANPNOcvUtoFgcaY9KA</td>\n",
       "      <td>Green Lantern Restaurant</td>\n",
       "      <td>3.5</td>\n",
       "    </tr>\n",
       "  </tbody>\n",
       "</table>\n",
       "</div>"
      ],
      "text/plain": [
       "              business_id                         name  stars\n",
       "1  JwUE5GmEO-sH1FuwJgKBlQ         Pine Cone Restaurant    4.0\n",
       "2  uGykseHzyS5xAMWoN6YUqA   Deforest Family Restaurant    4.0\n",
       "3  LRKJF43s9-3jG9Lgx4zODg                     Culver's    4.5\n",
       "4  RgDg-k9S5YD_BaxMckifkg  Chang Jiang Chinese Kitchen    4.0\n",
       "8  rdAdANPNOcvUtoFgcaY9KA     Green Lantern Restaurant    3.5"
      ]
     },
     "execution_count": 39,
     "metadata": {},
     "output_type": "execute_result"
    }
   ],
   "source": [
    "df_restaurants_WI.head()"
   ]
  },
  {
   "cell_type": "markdown",
   "metadata": {},
   "source": [
    "### Merging Review and Business Dataset"
   ]
  },
  {
   "cell_type": "code",
   "execution_count": 55,
   "metadata": {},
   "outputs": [],
   "source": [
    "df_merged = pd.merge(df_review, df_restaurants_WI, on='business_id', how='inner')\n",
    "df_merged.shape"
   ]
  },
  {
   "cell_type": "code",
   "execution_count": 57,
   "metadata": {},
   "outputs": [
    {
     "data": {
      "text/html": [
       "<div>\n",
       "<style scoped>\n",
       "    .dataframe tbody tr th:only-of-type {\n",
       "        vertical-align: middle;\n",
       "    }\n",
       "\n",
       "    .dataframe tbody tr th {\n",
       "        vertical-align: top;\n",
       "    }\n",
       "\n",
       "    .dataframe thead th {\n",
       "        text-align: right;\n",
       "    }\n",
       "</style>\n",
       "<table border=\"1\" class=\"dataframe\">\n",
       "  <thead>\n",
       "    <tr style=\"text-align: right;\">\n",
       "      <th></th>\n",
       "      <th>user_id</th>\n",
       "      <th>business_id</th>\n",
       "      <th>name</th>\n",
       "      <th>stars</th>\n",
       "    </tr>\n",
       "  </thead>\n",
       "  <tbody>\n",
       "    <tr>\n",
       "      <th>0</th>\n",
       "      <td>zvNimI98mrmhgNOOrzOiGg</td>\n",
       "      <td>JwUE5GmEO-sH1FuwJgKBlQ</td>\n",
       "      <td>Pine Cone Restaurant</td>\n",
       "      <td>4.0</td>\n",
       "    </tr>\n",
       "    <tr>\n",
       "      <th>1</th>\n",
       "      <td>p4ySEi8PEli0auZGBsy6gA</td>\n",
       "      <td>JwUE5GmEO-sH1FuwJgKBlQ</td>\n",
       "      <td>Pine Cone Restaurant</td>\n",
       "      <td>4.0</td>\n",
       "    </tr>\n",
       "    <tr>\n",
       "      <th>2</th>\n",
       "      <td>ZYaumz29bl9qHpu-KVtMGA</td>\n",
       "      <td>JwUE5GmEO-sH1FuwJgKBlQ</td>\n",
       "      <td>Pine Cone Restaurant</td>\n",
       "      <td>4.0</td>\n",
       "    </tr>\n",
       "    <tr>\n",
       "      <th>3</th>\n",
       "      <td>SvS7NXWG2B2kFoaHaWdGfg</td>\n",
       "      <td>JwUE5GmEO-sH1FuwJgKBlQ</td>\n",
       "      <td>Pine Cone Restaurant</td>\n",
       "      <td>4.0</td>\n",
       "    </tr>\n",
       "    <tr>\n",
       "      <th>4</th>\n",
       "      <td>qOYI9O0ecMJ9VaqcM9phNw</td>\n",
       "      <td>JwUE5GmEO-sH1FuwJgKBlQ</td>\n",
       "      <td>Pine Cone Restaurant</td>\n",
       "      <td>4.0</td>\n",
       "    </tr>\n",
       "  </tbody>\n",
       "</table>\n",
       "</div>"
      ],
      "text/plain": [
       "                  user_id             business_id                  name  stars\n",
       "0  zvNimI98mrmhgNOOrzOiGg  JwUE5GmEO-sH1FuwJgKBlQ  Pine Cone Restaurant    4.0\n",
       "1  p4ySEi8PEli0auZGBsy6gA  JwUE5GmEO-sH1FuwJgKBlQ  Pine Cone Restaurant    4.0\n",
       "2  ZYaumz29bl9qHpu-KVtMGA  JwUE5GmEO-sH1FuwJgKBlQ  Pine Cone Restaurant    4.0\n",
       "3  SvS7NXWG2B2kFoaHaWdGfg  JwUE5GmEO-sH1FuwJgKBlQ  Pine Cone Restaurant    4.0\n",
       "4  qOYI9O0ecMJ9VaqcM9phNw  JwUE5GmEO-sH1FuwJgKBlQ  Pine Cone Restaurant    4.0"
      ]
     },
     "execution_count": 57,
     "metadata": {},
     "output_type": "execute_result"
    }
   ],
   "source": [
    "df_merged.head()"
   ]
  },
  {
   "cell_type": "code",
   "execution_count": 58,
   "metadata": {},
   "outputs": [
    {
     "data": {
      "text/plain": [
       "728"
      ]
     },
     "execution_count": 58,
     "metadata": {},
     "output_type": "execute_result"
    }
   ],
   "source": [
    "## Unique Restaurants\n",
    "df_merged.business_id.nunique()"
   ]
  },
  {
   "cell_type": "code",
   "execution_count": 59,
   "metadata": {},
   "outputs": [
    {
     "data": {
      "text/plain": [
       "7404"
      ]
     },
     "execution_count": 59,
     "metadata": {},
     "output_type": "execute_result"
    }
   ],
   "source": [
    "## Unique Users\n",
    "df_merged.user_id.nunique()"
   ]
  },
  {
   "cell_type": "markdown",
   "metadata": {},
   "source": [
    "### Exporting the transformed Dataset"
   ]
  },
  {
   "cell_type": "code",
   "execution_count": 60,
   "metadata": {},
   "outputs": [],
   "source": [
    "df_merged.to_csv(r'C:\\Users\\Yogesh\\Downloads\\yelp-csv\\merged.csv')"
   ]
  }
 ],
 "metadata": {
  "kernelspec": {
   "display_name": "Python 3",
   "language": "python",
   "name": "python3"
  },
  "language_info": {
   "codemirror_mode": {
    "name": "ipython",
    "version": 3
   },
   "file_extension": ".py",
   "mimetype": "text/x-python",
   "name": "python",
   "nbconvert_exporter": "python",
   "pygments_lexer": "ipython3",
   "version": "3.7.3"
  }
 },
 "nbformat": 4,
 "nbformat_minor": 2
}
