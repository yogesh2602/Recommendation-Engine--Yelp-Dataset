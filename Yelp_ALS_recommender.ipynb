{
 "cells": [
  {
   "cell_type": "code",
   "execution_count": 1,
   "metadata": {},
   "outputs": [
    {
     "data": {
      "text/html": [
       "<style scoped>\n",
       "  .ansiout {\n",
       "    display: block;\n",
       "    unicode-bidi: embed;\n",
       "    white-space: pre-wrap;\n",
       "    word-wrap: break-word;\n",
       "    word-break: break-all;\n",
       "    font-family: \"Source Code Pro\", \"Menlo\", monospace;;\n",
       "    font-size: 13px;\n",
       "    color: #555;\n",
       "    margin-left: 4px;\n",
       "    line-height: 19px;\n",
       "  }\n",
       "</style>\n",
       "<div class=\"ansiout\"></div>"
      ]
     },
     "metadata": {},
     "output_type": "display_data"
    }
   ],
   "source": [
    "import pandas as pd\n",
    "import numpy as np\n",
    "from pyspark.sql.functions import monotonically_increasing_id,min,avg\n",
    "from pyspark.ml.recommendation import ALS\n",
    "from pyspark.ml.evaluation import RegressionEvaluator\n",
    "from pyspark.ml.tuning import ParamGridBuilder,CrossValidator"
   ]
  },
  {
   "cell_type": "markdown",
   "metadata": {},
   "source": [
    "### Loading the Dataset"
   ]
  },
  {
   "cell_type": "code",
   "execution_count": 2,
   "metadata": {},
   "outputs": [
    {
     "data": {
      "text/html": [
       "<style scoped>\n",
       "  .ansiout {\n",
       "    display: block;\n",
       "    unicode-bidi: embed;\n",
       "    white-space: pre-wrap;\n",
       "    word-wrap: break-word;\n",
       "    word-break: break-all;\n",
       "    font-family: \"Source Code Pro\", \"Menlo\", monospace;;\n",
       "    font-size: 13px;\n",
       "    color: #555;\n",
       "    margin-left: 4px;\n",
       "    line-height: 19px;\n",
       "  }\n",
       "</style>\n",
       "<div class=\"ansiout\"></div>"
      ]
     },
     "metadata": {},
     "output_type": "display_data"
    }
   ],
   "source": [
    "df=spark.read.csv(\"/FileStore/tables/merged.csv\", header=\"true\", inferSchema=\"true\")"
   ]
  },
  {
   "cell_type": "code",
   "execution_count": 3,
   "metadata": {},
   "outputs": [
    {
     "data": {
      "text/html": [
       "<style scoped>\n",
       "  .ansiout {\n",
       "    display: block;\n",
       "    unicode-bidi: embed;\n",
       "    white-space: pre-wrap;\n",
       "    word-wrap: break-word;\n",
       "    word-break: break-all;\n",
       "    font-family: \"Source Code Pro\", \"Menlo\", monospace;;\n",
       "    font-size: 13px;\n",
       "    color: #555;\n",
       "    margin-left: 4px;\n",
       "    line-height: 19px;\n",
       "  }\n",
       "</style>\n",
       "<div class=\"ansiout\">+---+--------------------+--------------------+------+\n",
       "_c0|             user_id|         business_id|rating|\n",
       "+---+--------------------+--------------------+------+\n",
       "  0|zvNimI98mrmhgNOOr...|JwUE5GmEO-sH1FuwJ...|   4.0|\n",
       "  1|p4ySEi8PEli0auZGB...|JwUE5GmEO-sH1FuwJ...|   4.0|\n",
       "  2|ZYaumz29bl9qHpu-K...|JwUE5GmEO-sH1FuwJ...|   4.0|\n",
       "  3|SvS7NXWG2B2kFoaHa...|JwUE5GmEO-sH1FuwJ...|   4.0|\n",
       "  4|qOYI9O0ecMJ9VaqcM...|JwUE5GmEO-sH1FuwJ...|   4.0|\n",
       "  5|EEYwj6_t1OT5WQGyp...|JwUE5GmEO-sH1FuwJ...|   4.0|\n",
       "  6|bfww9ItvUBeRsFQ4U...|JwUE5GmEO-sH1FuwJ...|   4.0|\n",
       "  7|Au3Qs-AAZEWu2_4gI...|JwUE5GmEO-sH1FuwJ...|   4.0|\n",
       "  8|MnXcXwr0keJpkIiwu...|JwUE5GmEO-sH1FuwJ...|   4.0|\n",
       "  9|              #NAME?|JwUE5GmEO-sH1FuwJ...|   4.0|\n",
       " 10|MPKMK36Xp0GuaWaXl...|JwUE5GmEO-sH1FuwJ...|   4.0|\n",
       " 11|pgKOL4k5tWCWS9VIc...|JwUE5GmEO-sH1FuwJ...|   4.0|\n",
       " 12|4K7YXIl77EOHlTfSU...|JwUE5GmEO-sH1FuwJ...|   4.0|\n",
       " 13|MDiCwtVo-Aq9cD5bA...|JwUE5GmEO-sH1FuwJ...|   4.0|\n",
       " 14|wC8r-m6KHifL6R2i8...|JwUE5GmEO-sH1FuwJ...|   4.0|\n",
       " 15|4ih20jNIEPIkhkh-u...|JwUE5GmEO-sH1FuwJ...|   4.0|\n",
       " 16|Bld8sdbL48rJzVXo4...|JwUE5GmEO-sH1FuwJ...|   4.0|\n",
       " 17|OtpHvQFGbZ4sONaQA...|JwUE5GmEO-sH1FuwJ...|   4.0|\n",
       " 18|nJ_6gzvBj0mF943eW...|JwUE5GmEO-sH1FuwJ...|   4.0|\n",
       " 19|RvweNJFVkR3ttkWsI...|JwUE5GmEO-sH1FuwJ...|   4.0|\n",
       "+---+--------------------+--------------------+------+\n",
       "only showing top 20 rows\n",
       "\n",
       "</div>"
      ]
     },
     "metadata": {},
     "output_type": "display_data"
    }
   ],
   "source": [
    "df.show()"
   ]
  },
  {
   "cell_type": "code",
   "execution_count": 4,
   "metadata": {},
   "outputs": [
    {
     "data": {
      "text/html": [
       "<style scoped>\n",
       "  .ansiout {\n",
       "    display: block;\n",
       "    unicode-bidi: embed;\n",
       "    white-space: pre-wrap;\n",
       "    word-wrap: break-word;\n",
       "    word-break: break-all;\n",
       "    font-family: \"Source Code Pro\", \"Menlo\", monospace;;\n",
       "    font-size: 13px;\n",
       "    color: #555;\n",
       "    margin-left: 4px;\n",
       "    line-height: 19px;\n",
       "  }\n",
       "</style>\n",
       "<div class=\"ansiout\"></div>"
      ]
     },
     "metadata": {},
     "output_type": "display_data"
    }
   ],
   "source": [
    "users=df.select(\"user_id\").distinct().coalesce(1)"
   ]
  },
  {
   "cell_type": "markdown",
   "metadata": {},
   "source": [
    "## Creating Numeric Id for users"
   ]
  },
  {
   "cell_type": "code",
   "execution_count": 5,
   "metadata": {},
   "outputs": [
    {
     "data": {
      "text/html": [
       "<style scoped>\n",
       "  .ansiout {\n",
       "    display: block;\n",
       "    unicode-bidi: embed;\n",
       "    white-space: pre-wrap;\n",
       "    word-wrap: break-word;\n",
       "    word-break: break-all;\n",
       "    font-family: \"Source Code Pro\", \"Menlo\", monospace;;\n",
       "    font-size: 13px;\n",
       "    color: #555;\n",
       "    margin-left: 4px;\n",
       "    line-height: 19px;\n",
       "  }\n",
       "</style>\n",
       "<div class=\"ansiout\">+--------------------+------+\n",
       "             user_id|UserId|\n",
       "+--------------------+------+\n",
       "I7dYsjvl3b66gL4Kh...|     0|\n",
       "RBhNiqaAU95xXYRf4...|     1|\n",
       "vU4N-TaRwk5GtAc97...|     2|\n",
       "hh6u9Ny2XY0TiWLha...|     3|\n",
       "m3AVaQrW0aLEgg6-Y...|     4|\n",
       "a0PfJ18hkhemRlEuM...|     5|\n",
       "8KiaJ22iKNFVgWCc6...|     6|\n",
       "4B5vxhyiEOIxaGF-J...|     7|\n",
       "CC4g_0ZVz3P_0He6p...|     8|\n",
       "Tg6Z_SL53-c-nyGWt...|     9|\n",
       "wnsWrAyyn2SEGgVVx...|    10|\n",
       "iXH-s7352a9BgJF3M...|    11|\n",
       "CZndIr_tyqmoly0xm...|    12|\n",
       "WG6fad_27Fm7GAiH2...|    13|\n",
       "yfQwWLYtqwHKiky1h...|    14|\n",
       "Up3fKmpiKHSx6uGA1...|    15|\n",
       "v686jxS1tqbknbANW...|    16|\n",
       "_A7k2p_9zkFy3y8VB...|    17|\n",
       "j3pNYfD2jIU2JEQ64...|    18|\n",
       "6ThmkFMpHzdCfxkRP...|    19|\n",
       "+--------------------+------+\n",
       "only showing top 20 rows\n",
       "\n",
       "</div>"
      ]
     },
     "metadata": {},
     "output_type": "display_data"
    }
   ],
   "source": [
    "\n",
    "users=users.withColumn(\"UserId\",monotonically_increasing_id()).persist()\n",
    "users.show()"
   ]
  },
  {
   "cell_type": "code",
   "execution_count": 6,
   "metadata": {},
   "outputs": [
    {
     "data": {
      "text/html": [
       "<style scoped>\n",
       "  .ansiout {\n",
       "    display: block;\n",
       "    unicode-bidi: embed;\n",
       "    white-space: pre-wrap;\n",
       "    word-wrap: break-word;\n",
       "    word-break: break-all;\n",
       "    font-family: \"Source Code Pro\", \"Menlo\", monospace;;\n",
       "    font-size: 13px;\n",
       "    color: #555;\n",
       "    margin-left: 4px;\n",
       "    line-height: 19px;\n",
       "  }\n",
       "</style>\n",
       "<div class=\"ansiout\"></div>"
      ]
     },
     "metadata": {},
     "output_type": "display_data"
    }
   ],
   "source": [
    "restaurants=df.select(\"business_id\").distinct().coalesce(1)"
   ]
  },
  {
   "cell_type": "markdown",
   "metadata": {},
   "source": [
    "## Creating Numeric Id for restaurants"
   ]
  },
  {
   "cell_type": "code",
   "execution_count": 7,
   "metadata": {},
   "outputs": [
    {
     "data": {
      "text/html": [
       "<style scoped>\n",
       "  .ansiout {\n",
       "    display: block;\n",
       "    unicode-bidi: embed;\n",
       "    white-space: pre-wrap;\n",
       "    word-wrap: break-word;\n",
       "    word-break: break-all;\n",
       "    font-family: \"Source Code Pro\", \"Menlo\", monospace;;\n",
       "    font-size: 13px;\n",
       "    color: #555;\n",
       "    margin-left: 4px;\n",
       "    line-height: 19px;\n",
       "  }\n",
       "</style>\n",
       "<div class=\"ansiout\">+--------------------+------------+\n",
       "         business_id|restaurantId|\n",
       "+--------------------+------------+\n",
       "89O2bCyo92IpEEvgF...|           0|\n",
       "vGCetjJwnPU5bqoNx...|           1|\n",
       "w7XfqsXO3ZEtoZs8_...|           2|\n",
       "0p3MbCriuvH9hgqRK...|           3|\n",
       "8GlGakyGqp9WvToKc...|           4|\n",
       "9Tjj3Zg-PPFCIUB_I...|           5|\n",
       "xHJPgPO3wF-F3Ep8V...|           6|\n",
       "dylp6k9_Du-oojW5l...|           7|\n",
       "K2BxGfj37me-kf__e...|           8|\n",
       "Kr7Vx-Yk7BpKcbGH6...|           9|\n",
       "iun1duUP2DH4i05GF...|          10|\n",
       "Bt2JuKNLqSnVympH-...|          11|\n",
       "O_Pu4mKGOqQVlmH07...|          12|\n",
       "wS6Qh5NkoPKDwjA_v...|          13|\n",
       "v5mjUyUZeWfLTdxXf...|          14|\n",
       "vNSSn98ePYBbCwRCD...|          15|\n",
       "O5lo-GKCG3cX8X4bh...|          16|\n",
       "TWtdZw-QCgG71af01...|          17|\n",
       "lN-5-YTsaJr_IByyA...|          18|\n",
       "wXri8QF92KOYe2INy...|          19|\n",
       "+--------------------+------------+\n",
       "only showing top 20 rows\n",
       "\n",
       "</div>"
      ]
     },
     "metadata": {},
     "output_type": "display_data"
    }
   ],
   "source": [
    "\n",
    "restaurants=restaurants.withColumn(\"restaurantId\",monotonically_increasing_id()).persist()\n",
    "restaurants.show()"
   ]
  },
  {
   "cell_type": "code",
   "execution_count": 8,
   "metadata": {},
   "outputs": [
    {
     "data": {
      "text/html": [
       "<style scoped>\n",
       "  .ansiout {\n",
       "    display: block;\n",
       "    unicode-bidi: embed;\n",
       "    white-space: pre-wrap;\n",
       "    word-wrap: break-word;\n",
       "    word-break: break-all;\n",
       "    font-family: \"Source Code Pro\", \"Menlo\", monospace;;\n",
       "    font-size: 13px;\n",
       "    color: #555;\n",
       "    margin-left: 4px;\n",
       "    line-height: 19px;\n",
       "  }\n",
       "</style>\n",
       "<div class=\"ansiout\"></div>"
      ]
     },
     "metadata": {},
     "output_type": "display_data"
    }
   ],
   "source": [
    "restaurant_rating=df.join(users,\"user_id\",\"left\").join(restaurants,\"business_id\",\"left\")"
   ]
  },
  {
   "cell_type": "code",
   "execution_count": 9,
   "metadata": {},
   "outputs": [
    {
     "data": {
      "text/html": [
       "<style scoped>\n",
       "  .ansiout {\n",
       "    display: block;\n",
       "    unicode-bidi: embed;\n",
       "    white-space: pre-wrap;\n",
       "    word-wrap: break-word;\n",
       "    word-break: break-all;\n",
       "    font-family: \"Source Code Pro\", \"Menlo\", monospace;;\n",
       "    font-size: 13px;\n",
       "    color: #555;\n",
       "    margin-left: 4px;\n",
       "    line-height: 19px;\n",
       "  }\n",
       "</style>\n",
       "<div class=\"ansiout\">+--------------------+--------------------+---+------+------+------------+\n",
       "         business_id|             user_id|_c0|rating|UserId|restaurantId|\n",
       "+--------------------+--------------------+---+------+------+------------+\n",
       "JwUE5GmEO-sH1FuwJ...|zvNimI98mrmhgNOOr...|  0|   4.0|  5066|         171|\n",
       "JwUE5GmEO-sH1FuwJ...|p4ySEi8PEli0auZGB...|  1|   4.0|  6900|         171|\n",
       "JwUE5GmEO-sH1FuwJ...|ZYaumz29bl9qHpu-K...|  2|   4.0|  6009|         171|\n",
       "JwUE5GmEO-sH1FuwJ...|SvS7NXWG2B2kFoaHa...|  3|   4.0|  2737|         171|\n",
       "JwUE5GmEO-sH1FuwJ...|qOYI9O0ecMJ9VaqcM...|  4|   4.0|  1876|         171|\n",
       "JwUE5GmEO-sH1FuwJ...|EEYwj6_t1OT5WQGyp...|  5|   4.0|  4145|         171|\n",
       "JwUE5GmEO-sH1FuwJ...|bfww9ItvUBeRsFQ4U...|  6|   4.0|  4295|         171|\n",
       "JwUE5GmEO-sH1FuwJ...|Au3Qs-AAZEWu2_4gI...|  7|   4.0|  6901|         171|\n",
       "JwUE5GmEO-sH1FuwJ...|MnXcXwr0keJpkIiwu...|  8|   4.0|  4699|         171|\n",
       "JwUE5GmEO-sH1FuwJ...|              #NAME?|  9|   4.0|   637|         171|\n",
       "JwUE5GmEO-sH1FuwJ...|MPKMK36Xp0GuaWaXl...| 10|   4.0|  3720|         171|\n",
       "JwUE5GmEO-sH1FuwJ...|pgKOL4k5tWCWS9VIc...| 11|   4.0|  5585|         171|\n",
       "JwUE5GmEO-sH1FuwJ...|4K7YXIl77EOHlTfSU...| 12|   4.0|  1990|         171|\n",
       "JwUE5GmEO-sH1FuwJ...|MDiCwtVo-Aq9cD5bA...| 13|   4.0|  4998|         171|\n",
       "JwUE5GmEO-sH1FuwJ...|wC8r-m6KHifL6R2i8...| 14|   4.0|  5483|         171|\n",
       "JwUE5GmEO-sH1FuwJ...|4ih20jNIEPIkhkh-u...| 15|   4.0|  4764|         171|\n",
       "JwUE5GmEO-sH1FuwJ...|Bld8sdbL48rJzVXo4...| 16|   4.0|  7105|         171|\n",
       "JwUE5GmEO-sH1FuwJ...|OtpHvQFGbZ4sONaQA...| 17|   4.0|  4028|         171|\n",
       "JwUE5GmEO-sH1FuwJ...|nJ_6gzvBj0mF943eW...| 18|   4.0|  2591|         171|\n",
       "JwUE5GmEO-sH1FuwJ...|RvweNJFVkR3ttkWsI...| 19|   4.0|  6796|         171|\n",
       "+--------------------+--------------------+---+------+------+------------+\n",
       "only showing top 20 rows\n",
       "\n",
       "</div>"
      ]
     },
     "metadata": {},
     "output_type": "display_data"
    }
   ],
   "source": [
    "restaurant_rating.show()"
   ]
  },
  {
   "cell_type": "code",
   "execution_count": 10,
   "metadata": {},
   "outputs": [
    {
     "data": {
      "text/html": [
       "<style scoped>\n",
       "  .ansiout {\n",
       "    display: block;\n",
       "    unicode-bidi: embed;\n",
       "    white-space: pre-wrap;\n",
       "    word-wrap: break-word;\n",
       "    word-break: break-all;\n",
       "    font-family: \"Source Code Pro\", \"Menlo\", monospace;;\n",
       "    font-size: 13px;\n",
       "    color: #555;\n",
       "    margin-left: 4px;\n",
       "    line-height: 19px;\n",
       "  }\n",
       "</style>\n",
       "<div class=\"ansiout\"></div>"
      ]
     },
     "metadata": {},
     "output_type": "display_data"
    }
   ],
   "source": [
    "restaurant_rating=restaurant_rating.select(\"UserId\",\"restaurantId\",\"rating\")"
   ]
  },
  {
   "cell_type": "markdown",
   "metadata": {},
   "source": [
    "## Checking the Sparsity of the DataFrame"
   ]
  },
  {
   "cell_type": "code",
   "execution_count": 11,
   "metadata": {},
   "outputs": [
    {
     "data": {
      "text/html": [
       "<style scoped>\n",
       "  .ansiout {\n",
       "    display: block;\n",
       "    unicode-bidi: embed;\n",
       "    white-space: pre-wrap;\n",
       "    word-wrap: break-word;\n",
       "    word-break: break-all;\n",
       "    font-family: \"Source Code Pro\", \"Menlo\", monospace;;\n",
       "    font-size: 13px;\n",
       "    color: #555;\n",
       "    margin-left: 4px;\n",
       "    line-height: 19px;\n",
       "  }\n",
       "</style>\n",
       "<div class=\"ansiout\">The ratings dataframe is  99.56% empty.\n",
       "</div>"
      ]
     },
     "metadata": {},
     "output_type": "display_data"
    }
   ],
   "source": [
    "\n",
    "# Count the total number of ratings in the dataset\n",
    "numerator = restaurant_rating.select(\"rating\").count()\n",
    "\n",
    "# Count the number of distinct userIds and distinct movieIds\n",
    "num_users = restaurant_rating.select(\"userId\").distinct().count()\n",
    "num_restaurants = restaurant_rating.select(\"restaurantId\").distinct().count()\n",
    "\n",
    "# Set the denominator equal to the number of users multiplied by the number of movies\n",
    "denominator = num_users * num_restaurants\n",
    "\n",
    "# Divide the numerator by the denominator\n",
    "sparsity = (1.0 - (numerator *1.0)/denominator)*100\n",
    "print(\"The ratings dataframe is \", \"%.2f\" % sparsity + \"% empty.\")"
   ]
  },
  {
   "cell_type": "markdown",
   "metadata": {},
   "source": [
    "### Descriptive Analysis"
   ]
  },
  {
   "cell_type": "code",
   "execution_count": 12,
   "metadata": {},
   "outputs": [
    {
     "data": {
      "text/html": [
       "<style scoped>\n",
       "  .ansiout {\n",
       "    display: block;\n",
       "    unicode-bidi: embed;\n",
       "    white-space: pre-wrap;\n",
       "    word-wrap: break-word;\n",
       "    word-break: break-all;\n",
       "    font-family: \"Source Code Pro\", \"Menlo\", monospace;;\n",
       "    font-size: 13px;\n",
       "    color: #555;\n",
       "    margin-left: 4px;\n",
       "    line-height: 19px;\n",
       "  }\n",
       "</style>\n",
       "<div class=\"ansiout\">Restaurants with the fewest ratings: \n",
       "+----------+\n",
       "min(count)|\n",
       "+----------+\n",
       "         1|\n",
       "+----------+\n",
       "\n",
       "Avg num ratings per restaurants: \n",
       "+------------------+\n",
       "        avg(count)|\n",
       "+------------------+\n",
       "32.379120879120876|\n",
       "+------------------+\n",
       "\n",
       "User with the fewest ratings: \n",
       "+----------+\n",
       "min(count)|\n",
       "+----------+\n",
       "         1|\n",
       "+----------+\n",
       "\n",
       "Avg num ratings per user: \n",
       "+------------------+\n",
       "        avg(count)|\n",
       "+------------------+\n",
       "3.2255062944718116|\n",
       "+------------------+\n",
       "\n",
       "</div>"
      ]
     },
     "metadata": {},
     "output_type": "display_data"
    }
   ],
   "source": [
    "# Min num ratings for restaurants\n",
    "print(\"Restaurants with the fewest ratings: \")\n",
    "restaurant_rating.groupBy(\"restaurantId\").count().select(min(\"count\")).show()\n",
    "\n",
    "#Avg num ratings per restaurants\n",
    "print(\"Avg num ratings per restaurants: \")\n",
    "restaurant_rating.groupBy(\"restaurantId\").count().select(avg(\"count\")).show()\n",
    "\n",
    "# Min num ratings for user\n",
    "print(\"User with the fewest ratings: \")\n",
    "restaurant_rating.groupBy(\"userId\").count().select(min(\"count\")).show()\n",
    "\n",
    "# Avg num ratings per users\n",
    "print(\"Avg num ratings per user: \")\n",
    "restaurant_rating.groupBy(\"userId\").count().select(avg(\"count\")).show()"
   ]
  },
  {
   "cell_type": "markdown",
   "metadata": {},
   "source": [
    "### Fitting the ALS Model"
   ]
  },
  {
   "cell_type": "code",
   "execution_count": 13,
   "metadata": {},
   "outputs": [
    {
     "data": {
      "text/html": [
       "<style scoped>\n",
       "  .ansiout {\n",
       "    display: block;\n",
       "    unicode-bidi: embed;\n",
       "    white-space: pre-wrap;\n",
       "    word-wrap: break-word;\n",
       "    word-break: break-all;\n",
       "    font-family: \"Source Code Pro\", \"Menlo\", monospace;;\n",
       "    font-size: 13px;\n",
       "    color: #555;\n",
       "    margin-left: 4px;\n",
       "    line-height: 19px;\n",
       "  }\n",
       "</style>\n",
       "<div class=\"ansiout\"></div>"
      ]
     },
     "metadata": {},
     "output_type": "display_data"
    }
   ],
   "source": [
    "(training_data,test_data)=restaurant_rating.randomSplit([0.8,0.2],seed=101)"
   ]
  },
  {
   "cell_type": "code",
   "execution_count": 14,
   "metadata": {},
   "outputs": [
    {
     "data": {
      "text/html": [
       "<style scoped>\n",
       "  .ansiout {\n",
       "    display: block;\n",
       "    unicode-bidi: embed;\n",
       "    white-space: pre-wrap;\n",
       "    word-wrap: break-word;\n",
       "    word-break: break-all;\n",
       "    font-family: \"Source Code Pro\", \"Menlo\", monospace;;\n",
       "    font-size: 13px;\n",
       "    color: #555;\n",
       "    margin-left: 4px;\n",
       "    line-height: 19px;\n",
       "  }\n",
       "</style>\n",
       "<div class=\"ansiout\"></div>"
      ]
     },
     "metadata": {},
     "output_type": "display_data"
    }
   ],
   "source": [
    "als=ALS(userCol=\"UserId\",itemCol=\"restaurantId\",ratingCol=\"rating\",rank=25,maxIter=20,regParam=.1,coldStartStrategy=\"drop\",nonnegative=True,implicitPrefs=False)"
   ]
  },
  {
   "cell_type": "code",
   "execution_count": 15,
   "metadata": {},
   "outputs": [
    {
     "data": {
      "text/html": [
       "<style scoped>\n",
       "  .ansiout {\n",
       "    display: block;\n",
       "    unicode-bidi: embed;\n",
       "    white-space: pre-wrap;\n",
       "    word-wrap: break-word;\n",
       "    word-break: break-all;\n",
       "    font-family: \"Source Code Pro\", \"Menlo\", monospace;;\n",
       "    font-size: 13px;\n",
       "    color: #555;\n",
       "    margin-left: 4px;\n",
       "    line-height: 19px;\n",
       "  }\n",
       "</style>\n",
       "<div class=\"ansiout\"></div>"
      ]
     },
     "metadata": {},
     "output_type": "display_data"
    }
   ],
   "source": [
    "model=als.fit(training_data)"
   ]
  },
  {
   "cell_type": "code",
   "execution_count": 16,
   "metadata": {},
   "outputs": [
    {
     "data": {
      "text/html": [
       "<style scoped>\n",
       "  .ansiout {\n",
       "    display: block;\n",
       "    unicode-bidi: embed;\n",
       "    white-space: pre-wrap;\n",
       "    word-wrap: break-word;\n",
       "    word-break: break-all;\n",
       "    font-family: \"Source Code Pro\", \"Menlo\", monospace;;\n",
       "    font-size: 13px;\n",
       "    color: #555;\n",
       "    margin-left: 4px;\n",
       "    line-height: 19px;\n",
       "  }\n",
       "</style>\n",
       "<div class=\"ansiout\">+------+------------+------+----------+\n",
       "UserId|restaurantId|rating|prediction|\n",
       "+------+------------+------+----------+\n",
       "  2858|         148|   4.0| 3.8692846|\n",
       "  6439|         148|   4.0| 3.8843544|\n",
       "  6250|         148|   4.0| 3.8937685|\n",
       "  5117|         471|   3.5|  3.386865|\n",
       "  1766|         471|   3.5| 3.4232032|\n",
       "  4028|         471|   3.5| 3.4027534|\n",
       "  5947|         471|   3.5| 3.3927274|\n",
       "   839|         471|   3.5| 3.4315343|\n",
       "  4765|         471|   3.5|   3.38546|\n",
       "  6381|         471|   3.5|  3.430068|\n",
       "  6285|         471|   3.5| 3.4112508|\n",
       "  3292|         471|   3.5| 3.4192245|\n",
       "  3292|         471|   3.5| 3.4192245|\n",
       "  7004|         471|   3.5| 3.4411166|\n",
       "  1463|         471|   3.5| 3.4230366|\n",
       "  3589|         471|   3.5| 3.3911142|\n",
       "  6624|         471|   3.5| 3.4168422|\n",
       "  3745|         471|   3.5| 3.4194207|\n",
       "   967|         471|   3.5|  3.385782|\n",
       "  5881|         471|   3.5| 3.4110682|\n",
       "+------+------------+------+----------+\n",
       "only showing top 20 rows\n",
       "\n",
       "</div>"
      ]
     },
     "metadata": {},
     "output_type": "display_data"
    }
   ],
   "source": [
    "test_predictions = model.transform(test_data)\n",
    "test_predictions.show()"
   ]
  },
  {
   "cell_type": "markdown",
   "metadata": {},
   "source": [
    "### Defining a evaluator to check model performance"
   ]
  },
  {
   "cell_type": "code",
   "execution_count": 17,
   "metadata": {},
   "outputs": [
    {
     "data": {
      "text/html": [
       "<style scoped>\n",
       "  .ansiout {\n",
       "    display: block;\n",
       "    unicode-bidi: embed;\n",
       "    white-space: pre-wrap;\n",
       "    word-wrap: break-word;\n",
       "    word-break: break-all;\n",
       "    font-family: \"Source Code Pro\", \"Menlo\", monospace;;\n",
       "    font-size: 13px;\n",
       "    color: #555;\n",
       "    margin-left: 4px;\n",
       "    line-height: 19px;\n",
       "  }\n",
       "</style>\n",
       "<div class=\"ansiout\"></div>"
      ]
     },
     "metadata": {},
     "output_type": "display_data"
    }
   ],
   "source": [
    "\n",
    "evaluator=RegressionEvaluator(metricName=\"rmse\",labelCol=\"rating\",predictionCol=\"prediction\")"
   ]
  },
  {
   "cell_type": "code",
   "execution_count": 18,
   "metadata": {},
   "outputs": [
    {
     "data": {
      "text/html": [
       "<style scoped>\n",
       "  .ansiout {\n",
       "    display: block;\n",
       "    unicode-bidi: embed;\n",
       "    white-space: pre-wrap;\n",
       "    word-wrap: break-word;\n",
       "    word-break: break-all;\n",
       "    font-family: \"Source Code Pro\", \"Menlo\", monospace;;\n",
       "    font-size: 13px;\n",
       "    color: #555;\n",
       "    margin-left: 4px;\n",
       "    line-height: 19px;\n",
       "  }\n",
       "</style>\n",
       "<div class=\"ansiout\"></div>"
      ]
     },
     "metadata": {},
     "output_type": "display_data"
    }
   ],
   "source": [
    "RMSE=evaluator.evaluate(test_predictions)"
   ]
  },
  {
   "cell_type": "code",
   "execution_count": 19,
   "metadata": {},
   "outputs": [
    {
     "data": {
      "text/html": [
       "<style scoped>\n",
       "  .ansiout {\n",
       "    display: block;\n",
       "    unicode-bidi: embed;\n",
       "    white-space: pre-wrap;\n",
       "    word-wrap: break-word;\n",
       "    word-break: break-all;\n",
       "    font-family: \"Source Code Pro\", \"Menlo\", monospace;;\n",
       "    font-size: 13px;\n",
       "    color: #555;\n",
       "    margin-left: 4px;\n",
       "    line-height: 19px;\n",
       "  }\n",
       "</style>\n",
       "<div class=\"ansiout\">0.1248431247447672\n",
       "</div>"
      ]
     },
     "metadata": {},
     "output_type": "display_data"
    }
   ],
   "source": [
    "print(RMSE)"
   ]
  },
  {
   "cell_type": "markdown",
   "metadata": {},
   "source": [
    "### Building the best model using Cross Validation and ParamGridBuilder\n",
    "### Creating a new training and test data for validation "
   ]
  },
  {
   "cell_type": "code",
   "execution_count": 21,
   "metadata": {},
   "outputs": [
    {
     "data": {
      "text/html": [
       "<style scoped>\n",
       "  .ansiout {\n",
       "    display: block;\n",
       "    unicode-bidi: embed;\n",
       "    white-space: pre-wrap;\n",
       "    word-wrap: break-word;\n",
       "    word-break: break-all;\n",
       "    font-family: \"Source Code Pro\", \"Menlo\", monospace;;\n",
       "    font-size: 13px;\n",
       "    color: #555;\n",
       "    margin-left: 4px;\n",
       "    line-height: 19px;\n",
       "  }\n",
       "</style>\n",
       "<div class=\"ansiout\"></div>"
      ]
     },
     "metadata": {},
     "output_type": "display_data"
    }
   ],
   "source": [
    "(train,test)=restaurant_rating.randomSplit([0.8,0.2],seed=55)"
   ]
  },
  {
   "cell_type": "code",
   "execution_count": 22,
   "metadata": {},
   "outputs": [
    {
     "data": {
      "text/html": [
       "<style scoped>\n",
       "  .ansiout {\n",
       "    display: block;\n",
       "    unicode-bidi: embed;\n",
       "    white-space: pre-wrap;\n",
       "    word-wrap: break-word;\n",
       "    word-break: break-all;\n",
       "    font-family: \"Source Code Pro\", \"Menlo\", monospace;;\n",
       "    font-size: 13px;\n",
       "    color: #555;\n",
       "    margin-left: 4px;\n",
       "    line-height: 19px;\n",
       "  }\n",
       "</style>\n",
       "<div class=\"ansiout\"></div>"
      ]
     },
     "metadata": {},
     "output_type": "display_data"
    }
   ],
   "source": [
    "## Creating a base ALS Model\n",
    "als=ALS(userCol=\"UserId\",itemCol=\"restaurantId\",ratingCol=\"rating\",coldStartStrategy=\"drop\",nonnegative=True,implicitPrefs=False)"
   ]
  },
  {
   "cell_type": "markdown",
   "metadata": {},
   "source": [
    "###  Adding hyperparameters and their respective values to param_grid"
   ]
  },
  {
   "cell_type": "code",
   "execution_count": 23,
   "metadata": {},
   "outputs": [
    {
     "data": {
      "text/html": [
       "<style scoped>\n",
       "  .ansiout {\n",
       "    display: block;\n",
       "    unicode-bidi: embed;\n",
       "    white-space: pre-wrap;\n",
       "    word-wrap: break-word;\n",
       "    word-break: break-all;\n",
       "    font-family: \"Source Code Pro\", \"Menlo\", monospace;;\n",
       "    font-size: 13px;\n",
       "    color: #555;\n",
       "    margin-left: 4px;\n",
       "    line-height: 19px;\n",
       "  }\n",
       "</style>\n",
       "<div class=\"ansiout\">Num models to be tested:  18\n",
       "</div>"
      ]
     },
     "metadata": {},
     "output_type": "display_data"
    }
   ],
   "source": [
    "\n",
    "param_grid= ParamGridBuilder() \\\n",
    "            .addGrid(als.rank,[10,50,100]) \\\n",
    "            .addGrid(als.maxIter,[5,15,25]) \\\n",
    "            .addGrid(als.regParam,[.01,.05]) \\\n",
    "            .build()\n",
    "print (\"Num models to be tested: \", len(param_grid))"
   ]
  },
  {
   "cell_type": "code",
   "execution_count": 24,
   "metadata": {},
   "outputs": [
    {
     "data": {
      "text/html": [
       "<style scoped>\n",
       "  .ansiout {\n",
       "    display: block;\n",
       "    unicode-bidi: embed;\n",
       "    white-space: pre-wrap;\n",
       "    word-wrap: break-word;\n",
       "    word-break: break-all;\n",
       "    font-family: \"Source Code Pro\", \"Menlo\", monospace;;\n",
       "    font-size: 13px;\n",
       "    color: #555;\n",
       "    margin-left: 4px;\n",
       "    line-height: 19px;\n",
       "  }\n",
       "</style>\n",
       "<div class=\"ansiout\"></div>"
      ]
     },
     "metadata": {},
     "output_type": "display_data"
    }
   ],
   "source": [
    "evaluator_cv=RegressionEvaluator(metricName=\"rmse\",labelCol=\"rating\",predictionCol=\"prediction\")"
   ]
  },
  {
   "cell_type": "markdown",
   "metadata": {},
   "source": [
    "### Building cross validation using CrossValidator"
   ]
  },
  {
   "cell_type": "code",
   "execution_count": 25,
   "metadata": {},
   "outputs": [
    {
     "data": {
      "text/html": [
       "<style scoped>\n",
       "  .ansiout {\n",
       "    display: block;\n",
       "    unicode-bidi: embed;\n",
       "    white-space: pre-wrap;\n",
       "    word-wrap: break-word;\n",
       "    word-break: break-all;\n",
       "    font-family: \"Source Code Pro\", \"Menlo\", monospace;;\n",
       "    font-size: 13px;\n",
       "    color: #555;\n",
       "    margin-left: 4px;\n",
       "    line-height: 19px;\n",
       "  }\n",
       "</style>\n",
       "<div class=\"ansiout\"></div>"
      ]
     },
     "metadata": {},
     "output_type": "display_data"
    }
   ],
   "source": [
    "\n",
    "cv=CrossValidator(estimator=als,estimatorParamMaps=param_grid,evaluator=evaluator_cv,numFolds=5)"
   ]
  },
  {
   "cell_type": "code",
   "execution_count": 26,
   "metadata": {},
   "outputs": [
    {
     "data": {
      "text/html": [
       "<style scoped>\n",
       "  .ansiout {\n",
       "    display: block;\n",
       "    unicode-bidi: embed;\n",
       "    white-space: pre-wrap;\n",
       "    word-wrap: break-word;\n",
       "    word-break: break-all;\n",
       "    font-family: \"Source Code Pro\", \"Menlo\", monospace;;\n",
       "    font-size: 13px;\n",
       "    color: #555;\n",
       "    margin-left: 4px;\n",
       "    line-height: 19px;\n",
       "  }\n",
       "</style>\n",
       "<div class=\"ansiout\"></div>"
      ]
     },
     "metadata": {},
     "output_type": "display_data"
    }
   ],
   "source": [
    "#Fitting cross validator to the 'train' dataset\n",
    "model = cv.fit(train)"
   ]
  },
  {
   "cell_type": "code",
   "execution_count": 27,
   "metadata": {},
   "outputs": [
    {
     "data": {
      "text/html": [
       "<style scoped>\n",
       "  .ansiout {\n",
       "    display: block;\n",
       "    unicode-bidi: embed;\n",
       "    white-space: pre-wrap;\n",
       "    word-wrap: break-word;\n",
       "    word-break: break-all;\n",
       "    font-family: \"Source Code Pro\", \"Menlo\", monospace;;\n",
       "    font-size: 13px;\n",
       "    color: #555;\n",
       "    margin-left: 4px;\n",
       "    line-height: 19px;\n",
       "  }\n",
       "</style>\n",
       "<div class=\"ansiout\"></div>"
      ]
     },
     "metadata": {},
     "output_type": "display_data"
    }
   ],
   "source": [
    "best_model = model.bestModel"
   ]
  },
  {
   "cell_type": "code",
   "execution_count": 28,
   "metadata": {},
   "outputs": [
    {
     "data": {
      "text/html": [
       "<style scoped>\n",
       "  .ansiout {\n",
       "    display: block;\n",
       "    unicode-bidi: embed;\n",
       "    white-space: pre-wrap;\n",
       "    word-wrap: break-word;\n",
       "    word-break: break-all;\n",
       "    font-family: \"Source Code Pro\", \"Menlo\", monospace;;\n",
       "    font-size: 13px;\n",
       "    color: #555;\n",
       "    margin-left: 4px;\n",
       "    line-height: 19px;\n",
       "  }\n",
       "</style>\n",
       "<div class=\"ansiout\">Out[80]: DataFrame[UserId: bigint, restaurantId: bigint, rating: double, prediction: float]</div>"
      ]
     },
     "metadata": {},
     "output_type": "display_data"
    }
   ],
   "source": [
    "best_model.transform(test)"
   ]
  },
  {
   "cell_type": "code",
   "execution_count": 29,
   "metadata": {},
   "outputs": [
    {
     "data": {
      "text/html": [
       "<style scoped>\n",
       "  .ansiout {\n",
       "    display: block;\n",
       "    unicode-bidi: embed;\n",
       "    white-space: pre-wrap;\n",
       "    word-wrap: break-word;\n",
       "    word-break: break-all;\n",
       "    font-family: \"Source Code Pro\", \"Menlo\", monospace;;\n",
       "    font-size: 13px;\n",
       "    color: #555;\n",
       "    margin-left: 4px;\n",
       "    line-height: 19px;\n",
       "  }\n",
       "</style>\n",
       "<div class=\"ansiout\"></div>"
      ]
     },
     "metadata": {},
     "output_type": "display_data"
    }
   ],
   "source": [
    "test_predictions = best_model.transform(test)"
   ]
  },
  {
   "cell_type": "code",
   "execution_count": 30,
   "metadata": {},
   "outputs": [
    {
     "data": {
      "text/html": [
       "<style scoped>\n",
       "  .ansiout {\n",
       "    display: block;\n",
       "    unicode-bidi: embed;\n",
       "    white-space: pre-wrap;\n",
       "    word-wrap: break-word;\n",
       "    word-break: break-all;\n",
       "    font-family: \"Source Code Pro\", \"Menlo\", monospace;;\n",
       "    font-size: 13px;\n",
       "    color: #555;\n",
       "    margin-left: 4px;\n",
       "    line-height: 19px;\n",
       "  }\n",
       "</style>\n",
       "<div class=\"ansiout\">+------+------------+------+----------+\n",
       "UserId|restaurantId|rating|prediction|\n",
       "+------+------------+------+----------+\n",
       "  4899|         148|   4.0| 3.9488034|\n",
       "  1247|         148|   4.0| 3.9415193|\n",
       "  2858|         148|   4.0| 3.9640925|\n",
       "   905|         148|   4.0| 3.9388468|\n",
       "  2371|         463|   2.0| 1.9965798|\n",
       "  1689|         471|   3.5| 3.4413726|\n",
       "  1774|         471|   3.5| 3.3689234|\n",
       "   839|         471|   3.5| 3.4632301|\n",
       "  3135|         471|   3.5| 3.4470525|\n",
       "  6381|         471|   3.5| 3.4673154|\n",
       "  4264|         471|   3.5| 3.4383752|\n",
       "   870|         471|   3.5|  3.455944|\n",
       "  7004|         471|   3.5| 3.4784327|\n",
       "  6624|         471|   3.5| 3.4536111|\n",
       "  2672|         471|   3.5| 3.4573038|\n",
       "  2601|         496|   4.0| 3.9544122|\n",
       "  4898|         496|   4.0|  3.936413|\n",
       "  6508|         496|   4.0|  3.944112|\n",
       "   871|         496|   4.0| 3.9592502|\n",
       "   829|         496|   4.0| 3.9427118|\n",
       "+------+------------+------+----------+\n",
       "only showing top 20 rows\n",
       "\n",
       "</div>"
      ]
     },
     "metadata": {},
     "output_type": "display_data"
    }
   ],
   "source": [
    "test_predictions.show()"
   ]
  },
  {
   "cell_type": "markdown",
   "metadata": {},
   "source": [
    "### Calculate the RMSE of test_predictions"
   ]
  },
  {
   "cell_type": "code",
   "execution_count": 31,
   "metadata": {},
   "outputs": [
    {
     "data": {
      "text/html": [
       "<style scoped>\n",
       "  .ansiout {\n",
       "    display: block;\n",
       "    unicode-bidi: embed;\n",
       "    white-space: pre-wrap;\n",
       "    word-wrap: break-word;\n",
       "    word-break: break-all;\n",
       "    font-family: \"Source Code Pro\", \"Menlo\", monospace;;\n",
       "    font-size: 13px;\n",
       "    color: #555;\n",
       "    margin-left: 4px;\n",
       "    line-height: 19px;\n",
       "  }\n",
       "</style>\n",
       "<div class=\"ansiout\">0.09446296264812788\n",
       "</div>"
      ]
     },
     "metadata": {},
     "output_type": "display_data"
    }
   ],
   "source": [
    "\n",
    "RMSE = evaluator.evaluate(test_predictions)\n",
    "print(RMSE)"
   ]
  },
  {
   "cell_type": "markdown",
   "metadata": {},
   "source": [
    "### Reformatting the ALS recommmendation output and generating recommendation for 20 users"
   ]
  },
  {
   "cell_type": "code",
   "execution_count": 32,
   "metadata": {},
   "outputs": [
    {
     "data": {
      "text/html": [
       "<style scoped>\n",
       "  .ansiout {\n",
       "    display: block;\n",
       "    unicode-bidi: embed;\n",
       "    white-space: pre-wrap;\n",
       "    word-wrap: break-word;\n",
       "    word-break: break-all;\n",
       "    font-family: \"Source Code Pro\", \"Menlo\", monospace;;\n",
       "    font-size: 13px;\n",
       "    color: #555;\n",
       "    margin-left: 4px;\n",
       "    line-height: 19px;\n",
       "  }\n",
       "</style>\n",
       "<div class=\"ansiout\"></div>"
      ]
     },
     "metadata": {},
     "output_type": "display_data"
    }
   ],
   "source": [
    "ALS_recommendations=model.recommendForAllUsers(20)"
   ]
  },
  {
   "cell_type": "code",
   "execution_count": 33,
   "metadata": {},
   "outputs": [
    {
     "data": {
      "text/html": [
       "<style scoped>\n",
       "  .ansiout {\n",
       "    display: block;\n",
       "    unicode-bidi: embed;\n",
       "    white-space: pre-wrap;\n",
       "    word-wrap: break-word;\n",
       "    word-break: break-all;\n",
       "    font-family: \"Source Code Pro\", \"Menlo\", monospace;;\n",
       "    font-size: 13px;\n",
       "    color: #555;\n",
       "    margin-left: 4px;\n",
       "    line-height: 19px;\n",
       "  }\n",
       "</style>\n",
       "<div class=\"ansiout\"></div>"
      ]
     },
     "metadata": {},
     "output_type": "display_data"
    }
   ],
   "source": [
    "ALS_recommendations.registerTempTable(\"ALS_rcs_temp\")"
   ]
  },
  {
   "cell_type": "code",
   "execution_count": 34,
   "metadata": {},
   "outputs": [
    {
     "data": {
      "text/html": [
       "<style scoped>\n",
       "  .ansiout {\n",
       "    display: block;\n",
       "    unicode-bidi: embed;\n",
       "    white-space: pre-wrap;\n",
       "    word-wrap: break-word;\n",
       "    word-break: break-all;\n",
       "    font-family: \"Source Code Pro\", \"Menlo\", monospace;;\n",
       "    font-size: 13px;\n",
       "    color: #555;\n",
       "    margin-left: 4px;\n",
       "    line-height: 19px;\n",
       "  }\n",
       "</style>\n",
       "<div class=\"ansiout\">+------+--------------------+\n",
       "UserId|     recommendations|\n",
       "+------+--------------------+\n",
       "  1580|[[363, 4.8728747]...|\n",
       "  4900|[[363, 4.9118967]...|\n",
       "  5300|[[363, 4.856173],...|\n",
       "  6620|[[363, 4.7356544]...|\n",
       "  7240|[[363, 4.9161973]...|\n",
       "   471|[[363, 4.886008],...|\n",
       "  1591|[[363, 4.7422147]...|\n",
       "  4101|[[363, 4.8160486]...|\n",
       "  1342|[[363, 4.871385],...|\n",
       "  2122|[[363, 4.790891],...|\n",
       "  2142|[[363, 4.8255854]...|\n",
       "   463|[[363, 4.8643823]...|\n",
       "   833|[[363, 4.870561],...|\n",
       "  5803|[[363, 4.8861384]...|\n",
       "  7253|[[363, 4.83219], ...|\n",
       "  3794|[[363, 4.8913646]...|\n",
       "  6654|[[363, 4.7556577]...|\n",
       "  3175|[[363, 4.8573995]...|\n",
       "  4935|[[363, 4.82674], ...|\n",
       "   496|[[363, 4.878773],...|\n",
       "+------+--------------------+\n",
       "only showing top 20 rows\n",
       "\n",
       "</div>"
      ]
     },
     "metadata": {},
     "output_type": "display_data"
    }
   ],
   "source": [
    "ALS_recommendations.show()"
   ]
  },
  {
   "cell_type": "code",
   "execution_count": 35,
   "metadata": {},
   "outputs": [
    {
     "data": {
      "text/html": [
       "<style scoped>\n",
       "  .ansiout {\n",
       "    display: block;\n",
       "    unicode-bidi: embed;\n",
       "    white-space: pre-wrap;\n",
       "    word-wrap: break-word;\n",
       "    word-break: break-all;\n",
       "    font-family: \"Source Code Pro\", \"Menlo\", monospace;;\n",
       "    font-size: 13px;\n",
       "    color: #555;\n",
       "    margin-left: 4px;\n",
       "    line-height: 19px;\n",
       "  }\n",
       "</style>\n",
       "<div class=\"ansiout\"></div>"
      ]
     },
     "metadata": {},
     "output_type": "display_data"
    }
   ],
   "source": [
    "clean_rcs=spark.sql(\"SELECT userId,restaurantIds_and_ratings.restaurantId as restaurantId,restaurantIds_and_ratings.rating as prediction from ALS_rcs_temp LATERAL VIEW explode(recommendations) exploded_table as restaurantIds_and_ratings\")"
   ]
  },
  {
   "cell_type": "code",
   "execution_count": 36,
   "metadata": {},
   "outputs": [
    {
     "data": {
      "text/html": [
       "<style scoped>\n",
       "  .ansiout {\n",
       "    display: block;\n",
       "    unicode-bidi: embed;\n",
       "    white-space: pre-wrap;\n",
       "    word-wrap: break-word;\n",
       "    word-break: break-all;\n",
       "    font-family: \"Source Code Pro\", \"Menlo\", monospace;;\n",
       "    font-size: 13px;\n",
       "    color: #555;\n",
       "    margin-left: 4px;\n",
       "    line-height: 19px;\n",
       "  }\n",
       "</style>\n",
       "<div class=\"ansiout\">+------+------------+----------+\n",
       "userId|restaurantId|prediction|\n",
       "+------+------------+----------+\n",
       "  1580|         363| 4.8728747|\n",
       "  1580|         683| 4.8643713|\n",
       "  1580|         402| 4.8633676|\n",
       "  1580|         380| 4.8523455|\n",
       "  1580|         693|  4.814744|\n",
       "  1580|         587| 4.8080673|\n",
       "  1580|           5| 4.7921114|\n",
       "  1580|          55| 4.7100058|\n",
       "  1580|         262| 4.4284697|\n",
       "  1580|         549| 4.4238915|\n",
       "  1580|         565| 4.4109364|\n",
       "  1580|         454|  4.405081|\n",
       "  1580|         415| 4.4045997|\n",
       "  1580|         486|  4.403766|\n",
       "  1580|         448|  4.403624|\n",
       "  1580|          35| 4.4027085|\n",
       "  1580|         717| 4.4021025|\n",
       "  1580|         146|  4.401228|\n",
       "  1580|         520|  4.399331|\n",
       "  1580|         651|   4.39601|\n",
       "+------+------------+----------+\n",
       "only showing top 20 rows\n",
       "\n",
       "</div>"
      ]
     },
     "metadata": {},
     "output_type": "display_data"
    }
   ],
   "source": [
    "clean_rcs.show()"
   ]
  },
  {
   "cell_type": "code",
   "execution_count": 37,
   "metadata": {},
   "outputs": [
    {
     "data": {
      "text/html": [
       "<style scoped>\n",
       "  .ansiout {\n",
       "    display: block;\n",
       "    unicode-bidi: embed;\n",
       "    white-space: pre-wrap;\n",
       "    word-wrap: break-word;\n",
       "    word-break: break-all;\n",
       "    font-family: \"Source Code Pro\", \"Menlo\", monospace;;\n",
       "    font-size: 13px;\n",
       "    color: #555;\n",
       "    margin-left: 4px;\n",
       "    line-height: 19px;\n",
       "  }\n",
       "</style>\n",
       "<div class=\"ansiout\">+------------+------+----------+------+\n",
       "restaurantId|userId|prediction|rating|\n",
       "+------------+------+----------+------+\n",
       "           5|   443| 4.7281113|  null|\n",
       "           5|   699| 4.8028235|   5.0|\n",
       "           5|   815|  4.744085|  null|\n",
       "           5|   866|  4.748084|  null|\n",
       "           5|   928|  4.787408|  null|\n",
       "           5|   975|  4.672315|  null|\n",
       "           5|  1081| 4.7051272|  null|\n",
       "           5|  1565| 4.7361717|  null|\n",
       "           5|  1949| 4.6671205|  null|\n",
       "           5|  2194|  4.786106|  null|\n",
       "           5|  2253|   4.50532|  null|\n",
       "           5|  2410| 4.7512965|  null|\n",
       "           5|  2428|  4.735284|  null|\n",
       "           5|  2557| 4.7861495|  null|\n",
       "           5|  2656| 4.7965875|  null|\n",
       "           5|  3307|  4.670579|  null|\n",
       "           5|  3506| 4.7423477|  null|\n",
       "           5|  3963|  4.797973|  null|\n",
       "           5|  4032|  4.647104|  null|\n",
       "           5|  4173|  4.791643|  null|\n",
       "+------------+------+----------+------+\n",
       "only showing top 20 rows\n",
       "\n",
       "</div>"
      ]
     },
     "metadata": {},
     "output_type": "display_data"
    }
   ],
   "source": [
    "clean_rcs.join(restaurant_rating,['restaurantId','userId'],\"left\").show()"
   ]
  },
  {
   "cell_type": "code",
   "execution_count": 38,
   "metadata": {},
   "outputs": [],
   "source": []
  }
 ],
 "metadata": {
  "kernelspec": {
   "display_name": "Python 3",
   "language": "python",
   "name": "python3"
  },
  "language_info": {
   "codemirror_mode": {
    "name": "ipython",
    "version": 3
   },
   "file_extension": ".py",
   "mimetype": "text/x-python",
   "name": "python",
   "nbconvert_exporter": "python",
   "pygments_lexer": "ipython3",
   "version": "3.7.3"
  },
  "name": "Yelp",
  "notebookId": 2857826987047041
 },
 "nbformat": 4,
 "nbformat_minor": 1
}
